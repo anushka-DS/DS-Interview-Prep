{
 "cells": [
  {
   "cell_type": "markdown",
   "metadata": {},
   "source": [
    "## [Statistics] Is the coin biased?: Google [Medium]\n",
    "\n",
    "A coin was flipped 1000 times, and 550 times it showed up heads. Do you think the coin is biased? Why or why not?"
   ]
  },
  {
   "cell_type": "markdown",
   "metadata": {},
   "source": [
    "### Generate Data"
   ]
  },
  {
   "cell_type": "code",
   "execution_count": 27,
   "metadata": {},
   "outputs": [],
   "source": [
    "import matplotlib.pyplot as plt\n",
    "import seaborn as sns\n",
    "%matplotlib inline\n",
    "sns.set(style=\"darkgrid\")\n",
    "\n",
    "import pymc3 as pm\n",
    "import random\n",
    "\n",
    "random.seed(42)\n",
    "\n",
    "HEADS, TAILS = 1, 0\n",
    "n_trials = 1000\n",
    "n_heads = 550\n",
    "\n",
    "data = [HEADS] * n_heads + [TAILS] * (n_trials - n_heads) \n",
    "random.shuffle(data)"
   ]
  },
  {
   "cell_type": "markdown",
   "metadata": {},
   "source": [
    "### Define Model\n",
    "\n",
    "We define the data generation process as follows. Let the prior distribution of the bias of the coin, $\\theta$, be distributed uniformly across the interval $[0, 1]$. Thus, we choose $\\theta \\sim \\text{Beta}(1, 1)$, as $\\text{Beta}(1, 1)$ is equivalent to the uniform distribution and it is also conjugate to the Binomial.\n",
    "\n",
    "Thereafter, as we have $\\theta$, we carry out $n$ Bernoulli experiments. \n",
    "\n",
    "$$ X_i \\sim \\text{Bernolli}(\\theta) \\quad \\forall  i = [1, \\cdots, n]$$\n",
    "\n",
    "**Note:** For this example, it is possible to calculate the posterior distribution analytically fairly easily, but here we have used a computational approach using MCMC."
   ]
  },
  {
   "cell_type": "code",
   "execution_count": 28,
   "metadata": {},
   "outputs": [
    {
     "name": "stderr",
     "output_type": "stream",
     "text": [
      "Auto-assigning NUTS sampler...\n",
      "Initializing NUTS using jitter+adapt_diag...\n",
      "Multiprocess sampling (4 chains in 2 jobs)\n",
      "NUTS: [theta]\n",
      "Sampling 4 chains, 0 divergences: 100%|██████████| 24000/24000 [00:08<00:00, 2717.78draws/s]\n"
     ]
    }
   ],
   "source": [
    "with pm.Model() as coin_flips:\n",
    "    theta = pm.Beta('theta', alpha=1, beta=1)\n",
    "    pm.Bernoulli('y', p=theta, observed=data)\n",
    "    trace = pm.sample(5000, random_seed=2019, chains=4, tune=1000)\n",
    "    "
   ]
  },
  {
   "cell_type": "markdown",
   "metadata": {},
   "source": [
    "### Post Experiment Analysis"
   ]
  },
  {
   "cell_type": "code",
   "execution_count": 29,
   "metadata": {},
   "outputs": [
    {
     "data": {
      "text/html": [
       "<div>\n",
       "<style scoped>\n",
       "    .dataframe tbody tr th:only-of-type {\n",
       "        vertical-align: middle;\n",
       "    }\n",
       "\n",
       "    .dataframe tbody tr th {\n",
       "        vertical-align: top;\n",
       "    }\n",
       "\n",
       "    .dataframe thead th {\n",
       "        text-align: right;\n",
       "    }\n",
       "</style>\n",
       "<table border=\"1\" class=\"dataframe\">\n",
       "  <thead>\n",
       "    <tr style=\"text-align: right;\">\n",
       "      <th></th>\n",
       "      <th>mean</th>\n",
       "      <th>sd</th>\n",
       "      <th>hpd_3%</th>\n",
       "      <th>hpd_97%</th>\n",
       "      <th>mcse_mean</th>\n",
       "      <th>mcse_sd</th>\n",
       "      <th>ess_mean</th>\n",
       "      <th>ess_sd</th>\n",
       "      <th>ess_bulk</th>\n",
       "      <th>ess_tail</th>\n",
       "      <th>r_hat</th>\n",
       "    </tr>\n",
       "  </thead>\n",
       "  <tbody>\n",
       "    <tr>\n",
       "      <td>theta</td>\n",
       "      <td>0.55</td>\n",
       "      <td>0.016</td>\n",
       "      <td>0.521</td>\n",
       "      <td>0.58</td>\n",
       "      <td>0.0</td>\n",
       "      <td>0.0</td>\n",
       "      <td>8269.0</td>\n",
       "      <td>8264.0</td>\n",
       "      <td>8261.0</td>\n",
       "      <td>13568.0</td>\n",
       "      <td>1.0</td>\n",
       "    </tr>\n",
       "  </tbody>\n",
       "</table>\n",
       "</div>"
      ],
      "text/plain": [
       "       mean     sd  hpd_3%  hpd_97%  mcse_mean  mcse_sd  ess_mean  ess_sd  \\\n",
       "theta  0.55  0.016   0.521     0.58        0.0      0.0    8269.0  8264.0   \n",
       "\n",
       "       ess_bulk  ess_tail  r_hat  \n",
       "theta    8261.0   13568.0    1.0  "
      ]
     },
     "execution_count": 29,
     "metadata": {},
     "output_type": "execute_result"
    }
   ],
   "source": [
    "summary = pm.summary(trace)\n",
    "summary"
   ]
  },
  {
   "cell_type": "code",
   "execution_count": 30,
   "metadata": {},
   "outputs": [],
   "source": [
    "mean = summary['mean'].values[0]\n",
    "hpd_3 = summary['hpd_3%'].values[0]\n",
    "hpd_97 = summary['hpd_97%'].values[0]"
   ]
  },
  {
   "cell_type": "code",
   "execution_count": 48,
   "metadata": {},
   "outputs": [
    {
     "data": {
      "text/plain": [
       "Text(0.5, 1.0, 'Posterior Distribution of theta')"
      ]
     },
     "execution_count": 48,
     "metadata": {},
     "output_type": "execute_result"
    },
    {
     "data": {
      "image/png": "[encoded data removed]",
      "text/plain": [
       "<Figure size 432x288 with 1 Axes>"
      ]
     },
     "metadata": {},
     "output_type": "display_data"
    }
   ],
   "source": [
    "pm.plot_posterior(trace)\n",
    "plt.title(\"Posterior Distribution of theta\")"
   ]
  },
  {
   "cell_type": "markdown",
   "metadata": {},
   "source": [
    "Here, we see the posterior distribution of $\\theta$. It appears that the 94% high density interval lies in the range $[0.52, 0.58]$. It does not contain the value $0.50$, thus, according to our analysis we can say that with probability 94%, the true $\\theta$ lies in the interval $[0.52, 0.58]$ and we can conclude that the coin is unfair."
   ]
  }
 ],
 "metadata": {
  "kernelspec": {
   "display_name": "Python 3",
   "language": "python",
   "name": "python3"
  },
  "language_info": {
   "codemirror_mode": {
    "name": "ipython",
    "version": 3
   },
   "file_extension": ".py",
   "mimetype": "text/x-python",
   "name": "python",
   "nbconvert_exporter": "python",
   "pygments_lexer": "ipython3",
   "version": "3.7.4"
  }
 },
 "nbformat": 4,
 "nbformat_minor": 2
}
